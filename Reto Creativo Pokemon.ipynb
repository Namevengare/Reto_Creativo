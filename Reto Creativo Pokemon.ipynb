{
 "cells": [
  {
   "cell_type": "code",
   "execution_count": 17,
   "metadata": {},
   "outputs": [],
   "source": [
    "import pandas as pd\n",
    "\n",
    "datos_pokemon = pd.read_csv('Dataset.csv')"
   ]
  },
  {
   "cell_type": "code",
   "execution_count": 18,
   "metadata": {},
   "outputs": [
    {
     "name": "stdout",
     "output_type": "stream",
     "text": [
      "abilities             object\n",
      "against_bug          float64\n",
      "against_dark         float64\n",
      "against_dragon       float64\n",
      "against_electric     float64\n",
      "against_fairy        float64\n",
      "against_fight        float64\n",
      "against_fire         float64\n",
      "against_flying       float64\n",
      "against_ghost        float64\n",
      "against_grass        float64\n",
      "against_ground       float64\n",
      "against_ice          float64\n",
      "against_normal       float64\n",
      "against_poison       float64\n",
      "against_psychic      float64\n",
      "against_rock         float64\n",
      "against_steel        float64\n",
      "against_water        float64\n",
      "attack                 int64\n",
      "base_egg_steps         int64\n",
      "base_happiness         int64\n",
      "base_total             int64\n",
      "capture_rate          object\n",
      "classfication         object\n",
      "defense                int64\n",
      "experience_growth      int64\n",
      "height_m             float64\n",
      "hp                     int64\n",
      "japanese_name         object\n",
      "name                  object\n",
      "percentage_male      float64\n",
      "pokedex_number         int64\n",
      "sp_attack              int64\n",
      "sp_defense             int64\n",
      "speed                  int64\n",
      "type1                 object\n",
      "type2                 object\n",
      "weight_kg            float64\n",
      "generation             int64\n",
      "is_legendary           int64\n",
      "dtype: object\n"
     ]
    }
   ],
   "source": [
    "tipos_datos = datos_pokemon.dtypes\n",
    "print(tipos_datos)"
   ]
  },
  {
   "cell_type": "code",
   "execution_count": 19,
   "metadata": {},
   "outputs": [
    {
     "name": "stdout",
     "output_type": "stream",
     "text": [
      "<class 'pandas.core.frame.DataFrame'>\n",
      "RangeIndex: 801 entries, 0 to 800\n",
      "Data columns (total 41 columns):\n",
      " #   Column             Non-Null Count  Dtype  \n",
      "---  ------             --------------  -----  \n",
      " 0   abilities          801 non-null    object \n",
      " 1   against_bug        801 non-null    float64\n",
      " 2   against_dark       801 non-null    float64\n",
      " 3   against_dragon     801 non-null    float64\n",
      " 4   against_electric   801 non-null    float64\n",
      " 5   against_fairy      801 non-null    float64\n",
      " 6   against_fight      801 non-null    float64\n",
      " 7   against_fire       801 non-null    float64\n",
      " 8   against_flying     801 non-null    float64\n",
      " 9   against_ghost      801 non-null    float64\n",
      " 10  against_grass      801 non-null    float64\n",
      " 11  against_ground     801 non-null    float64\n",
      " 12  against_ice        801 non-null    float64\n",
      " 13  against_normal     801 non-null    float64\n",
      " 14  against_poison     801 non-null    float64\n",
      " 15  against_psychic    801 non-null    float64\n",
      " 16  against_rock       801 non-null    float64\n",
      " 17  against_steel      801 non-null    float64\n",
      " 18  against_water      801 non-null    float64\n",
      " 19  attack             801 non-null    int64  \n",
      " 20  base_egg_steps     801 non-null    int64  \n",
      " 21  base_happiness     801 non-null    int64  \n",
      " 22  base_total         801 non-null    int64  \n",
      " 23  capture_rate       801 non-null    object \n",
      " 24  classfication      801 non-null    object \n",
      " 25  defense            801 non-null    int64  \n",
      " 26  experience_growth  801 non-null    int64  \n",
      " 27  height_m           781 non-null    float64\n",
      " 28  hp                 801 non-null    int64  \n",
      " 29  japanese_name      801 non-null    object \n",
      " 30  name               801 non-null    object \n",
      " 31  percentage_male    703 non-null    float64\n",
      " 32  pokedex_number     801 non-null    int64  \n",
      " 33  sp_attack          801 non-null    int64  \n",
      " 34  sp_defense         801 non-null    int64  \n",
      " 35  speed              801 non-null    int64  \n",
      " 36  type1              801 non-null    object \n",
      " 37  type2              417 non-null    object \n",
      " 38  weight_kg          781 non-null    float64\n",
      " 39  generation         801 non-null    int64  \n",
      " 40  is_legendary       801 non-null    int64  \n",
      "dtypes: float64(21), int64(13), object(7)\n",
      "memory usage: 256.7+ KB\n"
     ]
    }
   ],
   "source": [
    "datos_pokemon.info()"
   ]
  },
  {
   "cell_type": "code",
   "execution_count": 23,
   "metadata": {},
   "outputs": [
    {
     "name": "stdout",
     "output_type": "stream",
     "text": [
      "              attack     defense  height_m   weight_kg\n",
      "type1                                                 \n",
      "bug        70.125000   70.847222  0.883333   33.083333\n",
      "dark       87.793103   70.517241  1.296552   69.096552\n",
      "dragon    106.407407   86.259259  1.937037  107.125926\n",
      "electric   70.820513   61.820513  0.981579   37.944737\n",
      "fairy      62.111111   68.166667  0.794444   23.555556\n",
      "fighting   99.178571   66.392857  1.196429   58.675000\n",
      "fire       81.500000   67.788462  1.168000   66.096000\n",
      "flying     66.666667   65.000000  1.166667   52.000000\n",
      "ghost      72.740741   79.518519  1.251852   69.570370\n",
      "grass      73.769231   70.871795  0.938961   33.255844\n",
      "ground     94.812500   83.906250  1.340741  150.044444\n",
      "ice        73.304348   71.913043  1.208696  103.260870\n",
      "normal     75.161905   59.695238  1.024752   46.158416\n",
      "poison     72.656250   70.031250  1.160000   33.830000\n",
      "psychic    65.566038   69.264151  1.063462   57.328846\n",
      "rock       90.666667   96.266667  1.304878   92.946341\n",
      "steel      93.083333  120.208333  1.875000  188.841667\n",
      "water      73.307018   73.482456  1.283333   51.071930\n",
      "              attack     defense  height_m   weight_kg\n",
      "type2                                                 \n",
      "bug        76.000000   76.800000  1.020000   35.740000\n",
      "dark       95.904762   67.238095  1.270588   67.058824\n",
      "dragon     88.470588   84.058824  2.388235  235.358824\n",
      "electric   74.777778   71.666667  1.025000   57.612500\n",
      "fairy      63.482759   70.931034  0.744828   16.665517\n",
      "fighting  107.960000   83.280000  1.416000   85.460000\n",
      "fire       66.000000   73.846154  1.108333   52.075000\n",
      "flying     78.389474   66.778947  1.347368   50.833684\n",
      "ghost      95.571429   80.071429  1.461538   65.015385\n",
      "grass      78.250000   75.250000  1.055000   35.355000\n",
      "ground     86.058824   84.735294  1.796552  103.968966\n",
      "ice        88.666667   81.933333  1.781818  134.154545\n",
      "normal     52.750000   53.750000  0.900000   30.500000\n",
      "poison     67.617647   59.529412  0.990625   25.978125\n",
      "psychic    76.586207   84.310345  1.107143   80.217857\n",
      "rock       86.857143  131.142857  1.092857  105.264286\n",
      "steel      97.454545  106.272727  1.113636  101.640909\n",
      "water      70.176471   86.941176  0.917647   51.600000\n"
     ]
    }
   ],
   "source": [
    "promedios_por_tipo = datos_pokemon.groupby('type1')[['sp_attack', 'sp_defense', 'height_m', 'weight_kg']].mean()\n",
    "print(promedios_por_tipo)"
   ]
  },
  {
   "cell_type": "code",
   "execution_count": 30,
   "metadata": {},
   "outputs": [
    {
     "name": "stdout",
     "output_type": "stream",
     "text": [
      "           sp_attack  sp_defense  height_m   weight_kg\n",
      "type2                                                 \n",
      "bug        46.000000   77.800000  1.020000   35.740000\n",
      "dark       72.666667   62.238095  1.270588   67.058824\n",
      "dragon     91.529412   78.294118  2.388235  235.358824\n",
      "electric   86.888889   75.111111  1.025000   57.612500\n",
      "fairy      78.310345   81.724138  0.744828   16.665517\n",
      "fighting   77.560000   74.960000  1.416000   85.460000\n",
      "fire      102.461538   77.692308  1.108333   52.075000\n",
      "flying     73.600000   69.589474  1.347368   50.833684\n",
      "ghost      84.071429   79.642857  1.461538   65.015385\n",
      "grass      64.450000   76.050000  1.055000   35.355000\n",
      "ground     63.970588   63.852941  1.796552  103.968966\n",
      "ice        71.866667   76.466667  1.781818  134.154545\n",
      "normal     88.000000   64.250000  0.900000   30.500000\n",
      "poison     72.764706   70.970588  0.990625   25.978125\n",
      "psychic    82.034483   84.137931  1.107143   80.217857\n",
      "rock       51.857143   70.714286  1.092857  105.264286\n",
      "steel      76.500000   83.909091  1.113636  101.640909\n",
      "water      65.529412   68.705882  0.917647   51.600000\n"
     ]
    }
   ],
   "source": [
    "promedios_por_tipo = datos_pokemon.groupby('type2')[['sp_attack', 'sp_defense', 'height_m', 'weight_kg']].mean()\n",
    "print(promedios_por_tipo)"
   ]
  },
  {
   "cell_type": "code",
   "execution_count": 32,
   "metadata": {},
   "outputs": [
    {
     "name": "stdout",
     "output_type": "stream",
     "text": [
      "Estadisticas de pokemones legendarios:\n",
      "        sp_attack  sp_defense   height_m   weight_kg\n",
      "count   70.000000   70.000000  69.000000   69.000000\n",
      "mean   113.757143  101.885714   2.281159  199.350725\n",
      "std     34.403587   29.277554   1.772940  244.592937\n",
      "min     29.000000   31.000000   0.100000    0.100000\n",
      "25%     92.000000   90.000000   1.300000   40.000000\n",
      "50%    114.000000  100.000000   1.800000  120.000000\n",
      "75%    131.000000  120.000000   3.200000  250.000000\n",
      "max    194.000000  200.000000   9.200000  999.900000\n",
      "\n",
      "Estadisticas de pokemones no legendarios:\n",
      "        sp_attack  sp_defense    height_m   weight_kg\n",
      "count  731.000000  731.000000  712.000000  712.000000\n",
      "mean    67.240766   67.945280    1.055618   48.007163\n",
      "std     29.084657   25.958128    0.920250   73.285822\n",
      "min     10.000000   20.000000    0.100000    0.100000\n",
      "25%     45.000000   50.000000    0.500000    8.575000\n",
      "50%     62.000000   65.000000    0.900000   24.950000\n",
      "75%     85.000000   85.000000    1.400000   56.000000\n",
      "max    175.000000  230.000000   14.500000  920.000000\n"
     ]
    }
   ],
   "source": [
    "legendarios = datos_pokemon[datos_pokemon['is_legendary'] == True]\n",
    "no_legendarios = datos_pokemon[datos_pokemon['is_legendary'] == False]\n",
    "\n",
    "print('Estadisticas de pokemones legendarios:')\n",
    "print(legendarios[['sp_attack', 'sp_defense', 'height_m', 'weight_kg']].describe())\n",
    "\n",
    "print('\\nEstadisticas de pokemones no legendarios:')\n",
    "print(no_legendarios[['sp_attack', 'sp_defense', 'height_m', 'weight_kg']].describe())"
   ]
  },
  {
   "cell_type": "code",
   "execution_count": 34,
   "metadata": {},
   "outputs": [
    {
     "name": "stderr",
     "output_type": "stream",
     "text": [
      "Matplotlib is building the font cache; this may take a moment.\n",
      "C:\\Users\\Miguel\\AppData\\Local\\Temp\\ipykernel_6668\\990610037.py:4: MatplotlibDeprecationWarning: The 'labels' parameter of boxplot() has been renamed 'tick_labels' since Matplotlib 3.9; support for the old name will be dropped in 3.11.\n",
      "  plt.boxplot([legendarios['sp_defense'], no_legendarios['sp_defense']], labels=['legendarios', 'no_legendarios'])\n"
     ]
    },
    {
     "data": {
      "image/png": "[encoded data removed]",
      "text/plain": [
       "<Figure size 1000x600 with 1 Axes>"
      ]
     },
     "metadata": {},
     "output_type": "display_data"
    },
    {
     "name": "stderr",
     "output_type": "stream",
     "text": [
      "C:\\Users\\Miguel\\AppData\\Local\\Temp\\ipykernel_6668\\990610037.py:10: MatplotlibDeprecationWarning: The 'labels' parameter of boxplot() has been renamed 'tick_labels' since Matplotlib 3.9; support for the old name will be dropped in 3.11.\n",
      "  plt.boxplot([legendarios['speed'], no_legendarios['speed']], labels=['legendarios', 'no_legendarios'])\n"
     ]
    },
    {
     "data": {
      "image/png": "[encoded data removed]",
      "text/plain": [
       "<Figure size 1000x600 with 1 Axes>"
      ]
     },
     "metadata": {},
     "output_type": "display_data"
    }
   ],
   "source": [
    "import matplotlib.pyplot as plt\n",
    "\n",
    "plt.figure(figsize=(10,6))\n",
    "plt.boxplot([legendarios['sp_defense'], no_legendarios['sp_defense']], labels=['legendarios', 'no_legendarios'])\n",
    "plt.title('Boxplot de defensa')\n",
    "plt.ylabel('valor de defensa')\n",
    "plt.show()\n",
    "\n",
    "plt.figure(figsize=(10,6))\n",
    "plt.boxplot([legendarios['speed'], no_legendarios['speed']], labels=['legendarios', 'no_legendarios'])\n",
    "plt.title('Boxplot de velocidad')\n",
    "plt.ylabel('valor de velocidad')\n",
    "plt.show()\n"
   ]
  },
  {
   "cell_type": "code",
   "execution_count": 38,
   "metadata": {},
   "outputs": [
    {
     "name": "stdout",
     "output_type": "stream",
     "text": [
      "abilities              0\n",
      "against_bug            0\n",
      "against_dark           0\n",
      "against_dragon         0\n",
      "against_electric       0\n",
      "against_fairy          0\n",
      "against_fight          0\n",
      "against_fire           0\n",
      "against_flying         0\n",
      "against_ghost          0\n",
      "against_grass          0\n",
      "against_ground         0\n",
      "against_ice            0\n",
      "against_normal         0\n",
      "against_poison         0\n",
      "against_psychic        0\n",
      "against_rock           0\n",
      "against_steel          0\n",
      "against_water          0\n",
      "attack                 0\n",
      "base_egg_steps         0\n",
      "base_happiness         0\n",
      "base_total             0\n",
      "capture_rate           0\n",
      "classfication          0\n",
      "defense                0\n",
      "experience_growth      0\n",
      "height_m              20\n",
      "hp                     0\n",
      "japanese_name          0\n",
      "name                   0\n",
      "percentage_male       98\n",
      "pokedex_number         0\n",
      "sp_attack              0\n",
      "sp_defense             0\n",
      "speed                  0\n",
      "type1                  0\n",
      "type2                384\n",
      "weight_kg             20\n",
      "generation             0\n",
      "is_legendary           0\n",
      "dtype: int64\n"
     ]
    }
   ],
   "source": [
    "Valores_nulos = datos_pokemon.isnull().sum()\n",
    "print(Valores_nulos)\n",
    "\n",
    "datos_pokemon_sin_nulos = datos_pokemon.dropna()\n",
    "\n",
    "numeric_cols = datos_pokemon.select_dtypes(include=['int64', 'float64']).columns\n",
    "\n",
    "datos_pokemon_rellenados = datos_pokemon[numeric_cols].fillna(datos_pokemon[numeric_cols].median())\n"
   ]
  }
 ],
 "metadata": {
  "kernelspec": {
   "display_name": "Python 3",
   "language": "python",
   "name": "python3"
  },
  "language_info": {
   "codemirror_mode": {
    "name": "ipython",
    "version": 3
   },
   "file_extension": ".py",
   "mimetype": "text/x-python",
   "name": "python",
   "nbconvert_exporter": "python",
   "pygments_lexer": "ipython3",
   "version": "3.12.4"
  }
 },
 "nbformat": 4,
 "nbformat_minor": 2
}
